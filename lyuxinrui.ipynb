{
 "cells": [
  {
   "cell_type": "code",
   "execution_count": 2,
   "id": "d9d87190-0a84-4647-a161-441e792d19ad",
   "metadata": {},
   "outputs": [
    {
     "name": "stdout",
     "output_type": "stream",
     "text": [
      "Overwriting app.py\n"
     ]
    }
   ],
   "source": [
    "%%writefile app.py\n",
    "import streamlit as st\n",
    "st.title(\"test\")\n",
    "st.write(\"hello\")\n",
    "name=st.next_input(\"name?\")\n",
    "if st.button(\"HELLO\"):\n",
    "    st.success(f\"안녕하세요,{name}님!\")"
   ]
  },
  {
   "cell_type": "code",
   "execution_count": null,
   "id": "8ee7f38d-a322-4f6a-840e-346aed35dcef",
   "metadata": {},
   "outputs": [],
   "source": []
  }
 ],
 "metadata": {
  "kernelspec": {
   "display_name": "Python 3 (ipykernel)",
   "language": "python",
   "name": "python3"
  },
  "language_info": {
   "codemirror_mode": {
    "name": "ipython",
    "version": 3
   },
   "file_extension": ".py",
   "mimetype": "text/x-python",
   "name": "python",
   "nbconvert_exporter": "python",
   "pygments_lexer": "ipython3",
   "version": "3.13.5"
  }
 },
 "nbformat": 4,
 "nbformat_minor": 5
}
